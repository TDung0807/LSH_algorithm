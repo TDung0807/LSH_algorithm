{
  "cells": [
    {
      "cell_type": "markdown",
      "source": [
        "# Requiment 1"
      ],
      "metadata": {
        "id": "6h3u_GQOVaIp"
      }
    },
    {
      "cell_type": "markdown",
      "source": [
        "## Library"
      ],
      "metadata": {
        "id": "uPqyY43fVi3_"
      }
    },
    {
      "cell_type": "code",
      "source": [
        "import pandas as pd"
      ],
      "metadata": {
        "id": "lL4pxe1GVlqF"
      },
      "execution_count": 10,
      "outputs": []
    },
    {
      "cell_type": "markdown",
      "source": [
        "## Data"
      ],
      "metadata": {
        "id": "4jfP_eUIlgOe"
      }
    },
    {
      "cell_type": "code",
      "source": [
        "def read_file(filename):\n",
        "    with open(filename, 'r') as file:\n",
        "        text = file.readlines()\n",
        "    df = pd.DataFrame(text, columns=[\"Text\"])\n",
        "    return df"
      ],
      "metadata": {
        "id": "UVj_xc0Ele3P"
      },
      "execution_count": 11,
      "outputs": []
    },
    {
      "cell_type": "markdown",
      "source": [
        "## LSH"
      ],
      "metadata": {
        "id": "3sNgM1e1lVph"
      }
    },
    {
      "cell_type": "markdown",
      "source": [
        "## Shingling"
      ],
      "metadata": {
        "id": "yr_u3ZVblYrU"
      }
    },
    {
      "cell_type": "code",
      "source": [
        "class InMemoryMinHashLSH:\n",
        "    def __init__(self, documents):\n",
        "        self.documents = documents\n",
        "        self.shingled_data = None\n",
        "        self.minhashing_data = None\n",
        "        self.lsh_data = None\n",
        "\n",
        "    def shingling(self):\n",
        "      k = 10\n",
        "      shingling_data = []  # List to store shingled data\n",
        "      for text in self.documents['Text']:\n",
        "          shingles = []  # List to store shingles for each document\n",
        "          for i in range(len(text) - k + 1):\n",
        "              shingle = text[i:i+k]  # Extract shingle of length k\n",
        "              shingles.append(shingle)\n",
        "          shingling_data.append(shingles)\n",
        "      self.shingled_data = shingling_data  # Store shingled data\n",
        "      return shingling_data\n",
        "\n",
        "\n",
        "    def minhashing(self):\n",
        "        # Your minhashing implementation here\n",
        "        pass\n",
        "\n",
        "    def locality_sensity_hashing(self):\n",
        "        # Your locality sensitive hashing implementation here\n",
        "        pass\n",
        "\n",
        "    def run(self):\n",
        "        # Run the entire process\n",
        "        print(self.shingling())  # Call shingling method using self\n",
        "        return\n",
        "\n",
        "    def approxNearestNeighbors(self, key, n):\n",
        "        pass\n"
      ],
      "metadata": {
        "id": "-37WdYFdmzWK"
      },
      "execution_count": 30,
      "outputs": []
    },
    {
      "cell_type": "code",
      "source": [
        "data = read_file(\"/content/WebOfScience-5736.txt\")\n",
        "minhash_lsh = InMemoryMinHashLSH(data)\n",
        "minhash_lsh.run()"
      ],
      "metadata": {
        "colab": {
          "base_uri": "https://localhost:8080/"
        },
        "id": "vP3-kXcmnNx9",
        "outputId": "8a5c0f47-ee09-4801-97e6-e16b35e2e4fe"
      },
      "execution_count": 31,
      "outputs": [
        {
          "output_type": "stream",
          "name": "stderr",
          "text": [
            "IOPub data rate exceeded.\n",
            "The notebook server will temporarily stop sending output\n",
            "to the client in order to avoid crashing it.\n",
            "To change this limit, set the config variable\n",
            "`--NotebookApp.iopub_data_rate_limit`.\n",
            "\n",
            "Current values:\n",
            "NotebookApp.iopub_data_rate_limit=1000000.0 (bytes/sec)\n",
            "NotebookApp.rate_limit_window=3.0 (secs)\n",
            "\n"
          ]
        }
      ]
    }
  ],
  "metadata": {
    "colab": {
      "provenance": [],
      "collapsed_sections": [
        "3sNgM1e1lVph"
      ]
    },
    "kernelspec": {
      "display_name": "Python 3",
      "name": "python3"
    },
    "language_info": {
      "name": "python"
    }
  },
  "nbformat": 4,
  "nbformat_minor": 0
}